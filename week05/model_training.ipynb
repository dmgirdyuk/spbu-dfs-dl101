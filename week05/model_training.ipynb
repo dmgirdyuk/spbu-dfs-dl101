{
 "cells": [
  {
   "cell_type": "markdown",
   "id": "cffdd5d6-3712-45d2-b5c0-cbb48b5f377d",
   "metadata": {},
   "source": [
    "# Обучение моделей в Pytorch"
   ]
  },
  {
   "cell_type": "markdown",
   "id": "7c08303f-a2f1-4698-afe1-0d1587b668cd",
   "metadata": {},
   "source": [
    "## Dataset and DataLoader"
   ]
  },
  {
   "cell_type": "code",
   "execution_count": null,
   "id": "2fc18f6a-31c9-4ff1-b7a7-02a7a13f85cd",
   "metadata": {},
   "outputs": [],
   "source": [
    "import torch\n",
    "from matplotlib import pyplot as plt\n",
    "from torch.utils.data import DataLoader, Dataset\n",
    "from torchvision import datasets\n",
    "from torchvision.transforms import ToTensor"
   ]
  },
  {
   "cell_type": "code",
   "execution_count": null,
   "id": "d5f057bd-99cc-4053-86a5-af4feaa556be",
   "metadata": {},
   "outputs": [],
   "source": [
    "train_dataset = datasets.FashionMNIST(\n",
    "    root=\"data\",\n",
    "    train=True,\n",
    "    download=True,\n",
    "    transform=ToTensor(),\n",
    ")\n",
    "\n",
    "test_dataset = datasets.FashionMNIST(\n",
    "    root=\"data\",\n",
    "    train=False,\n",
    "    download=True,\n",
    "    transform=ToTensor(),\n",
    ")\n",
    "\n",
    "train_dataloader = DataLoader(train_dataset, batch_size=64, num_workers=0, shuffle=True)\n",
    "test_dataloader = DataLoader(test_dataset, batch_size=64, num_workers=0, shuffle=True)\n",
    "\n",
    "labels_map = {\n",
    "    0: \"T-Shirt\",\n",
    "    1: \"Trouser\",\n",
    "    2: \"Pullover\",\n",
    "    3: \"Dress\",\n",
    "    4: \"Coat\",\n",
    "    5: \"Sandal\",\n",
    "    6: \"Shirt\",\n",
    "    7: \"Sneaker\",\n",
    "    8: \"Bag\",\n",
    "    9: \"Ankle Boot\",\n",
    "}"
   ]
  },
  {
   "cell_type": "code",
   "execution_count": null,
   "id": "ab3ce2ed-6762-462a-9637-0eef3f049d86",
   "metadata": {},
   "outputs": [],
   "source": [
    "def show_fashion_plots(\n",
    "    dataset: Dataset, labels_map: dict[int, str], cols: int = 3, rows: int = 3\n",
    ") -> None:\n",
    "    figure = plt.figure(figsize=(8, 8))\n",
    "    for i in range(1, cols * rows + 1):\n",
    "        sample_idx = torch.randint(len(dataset), size=(1,)).item()\n",
    "        img, label = dataset[sample_idx]\n",
    "        figure.add_subplot(rows, cols, i)\n",
    "        if type(label) == torch.Tensor:\n",
    "            plt.title(labels_map[label.item()])\n",
    "        else:\n",
    "            plt.title(labels_map[label])\n",
    "        plt.axis(\"off\")\n",
    "        plt.imshow(img.squeeze(), cmap=\"gray\")\n",
    "\n",
    "    plt.show()"
   ]
  },
  {
   "cell_type": "code",
   "execution_count": null,
   "id": "c4f1a96c-3ba8-4932-a9e9-adfbb7cd0d9c",
   "metadata": {},
   "outputs": [],
   "source": [
    "show_fashion_plots(train_dataset, labels_map=labels_map)"
   ]
  },
  {
   "cell_type": "markdown",
   "id": "e23e4075-eebb-4309-ad2e-7f7a44a90ae7",
   "metadata": {},
   "source": [
    "## NN module"
   ]
  },
  {
   "cell_type": "markdown",
   "id": "7b5d3523-edc4-4540-892d-5583c5de8c25",
   "metadata": {},
   "source": [
    "Нейронные сети состоят из слоев/модулей, которые выполняют операции с данными. Пакет torch.nn предоставляет все строительные блоки, необходимые для создания собственной нейронной сети. Каждый модуль в pytorch является подклассом nn.Module. Нейронная сеть — это сам модуль, состоящий из других модулей (слоев)."
   ]
  },
  {
   "cell_type": "code",
   "execution_count": null,
   "id": "0442eeb1-f0d4-4fd4-9d50-d24aaa1bf301",
   "metadata": {},
   "outputs": [],
   "source": [
    "from torch import nn\n",
    "from torchvision import datasets, transforms\n",
    "\n",
    "\n",
    "DEVICE = \"cuda\" if torch.cuda.is_available() else \"cpu\""
   ]
  },
  {
   "cell_type": "markdown",
   "id": "b4f14121-481d-4642-96d3-f0f6516291fd",
   "metadata": {},
   "source": [
    "Проиллюстрируем на примере ~многослойной нейронной сети прямой связи~ feed-forward нейронной сети (название многослойный персептрон используется чаще, но за персептроном зафиксирован конкретный тип модели, разработанный в середине прошлого века).\n",
    "\n",
    "Важно отметить, что каждая составная часть модели представляет собой наследника nn.Module."
   ]
  },
  {
   "cell_type": "code",
   "execution_count": null,
   "id": "d34e7a0d-e044-4fd8-a235-64614d253a97",
   "metadata": {},
   "outputs": [],
   "source": [
    "class FFNN(nn.Module):\n",
    "    def __init__(self) -> None:\n",
    "        super().__init__()\n",
    "\n",
    "        self.flatten = nn.Flatten()  # векторизация изображения-матрицы\n",
    "        self.linear_relu_stack = nn.Sequential(  # контейнер для модулей\n",
    "            nn.Linear(  # линейная трансформация, bias=True on default\n",
    "                in_features=28 * 28, out_features=512, bias=True\n",
    "            ),\n",
    "            nn.ReLU(),  # нелинейная функция активации\n",
    "            nn.Linear(512, 512),\n",
    "            nn.ReLU(),\n",
    "            nn.Linear(512, 10),\n",
    "        )\n",
    "\n",
    "    def forward(  # основной метод, связывающий инициализированные слои в вычислительный граф\n",
    "        self, x: torch.LongTensor\n",
    "    ) -> torch.FloatTensor:\n",
    "        x = self.flatten(x)\n",
    "        logits = self.linear_relu_stack(x)\n",
    "        return logits"
   ]
  },
  {
   "cell_type": "code",
   "execution_count": null,
   "id": "f9d26098-9b73-4ac1-906e-252a89ef8d66",
   "metadata": {},
   "outputs": [],
   "source": [
    "ffnn_model = FFNN().to(DEVICE)  # переносим веса модели на ГПУ (при наличии)\n",
    "print(ffnn_model)"
   ]
  },
  {
   "cell_type": "markdown",
   "id": "8d7e791c-1475-4c50-ad6a-fae223f860f2",
   "metadata": {},
   "source": [
    "Ниже пример работы модели и трансформации ее вывода"
   ]
  },
  {
   "cell_type": "code",
   "execution_count": null,
   "id": "0ebb72eb-2a1d-46c8-a757-48f300efeee1",
   "metadata": {},
   "outputs": [],
   "source": [
    "train_features, train_labels = next(iter(train_dataloader))\n",
    "logits = ffnn_model(\n",
    "    train_features.to(DEVICE)\n",
    ")  # \"raw\" предсказания модели, [-\\inf, \\inf]\n",
    "pred_probas = nn.Softmax(dim=1)(\n",
    "    logits  # логиты передаем в софтмакс, трансформирующий значения в интервал [0; 1]\n",
    ")\n",
    "print(\"Пример вывода модели для одного сэмпла данных:\", pred_probas[0], sep=\"\\n\")\n",
    "print(\"Размерность вывода:\", pred_probas.shape)\n",
    "y_pred = pred_probas.argmax(\n",
    "    1\n",
    ")  # наконец, выбираем наиболее вероятный класс для каждого сэмпла\n",
    "y_pred"
   ]
  },
  {
   "cell_type": "code",
   "execution_count": null,
   "id": "d9be11a3-c776-47ae-b61f-a767347fab6a",
   "metadata": {},
   "outputs": [],
   "source": [
    "# вывод всех параметров модели\n",
    "for name, param in ffnn_model.named_parameters():\n",
    "    print(\n",
    "        f\"Layer: {name}\",\n",
    "        f\"Size: {param.size()}\",\n",
    "        f\"Values : {param[:2]}\",\n",
    "        sep=\"\\n\",\n",
    "        end=\"\\n\\n\",\n",
    "    )"
   ]
  },
  {
   "cell_type": "code",
   "execution_count": null,
   "id": "9be21df0-7d13-49ad-b45c-d710085591d6",
   "metadata": {},
   "outputs": [],
   "source": [
    "def count_model_params(model: nn.Module) -> int:\n",
    "    \"\"\"Returns the amout of pytorch model parameters.\"\"\"\n",
    "    return sum(p.numel() for p in model.parameters())"
   ]
  },
  {
   "cell_type": "code",
   "execution_count": null,
   "id": "799e0c2a-e9b0-4f78-9b11-13b9c2d69ad6",
   "metadata": {},
   "outputs": [],
   "source": [
    "count_model_params(ffnn_model)"
   ]
  },
  {
   "cell_type": "markdown",
   "id": "d5c5dbb2-7fec-4111-86d7-fcea5ea902b7",
   "metadata": {},
   "source": [
    "Рассмотрим альтернативный (stateless) способ создания моделей и описания ее работы в методе forward: functional API."
   ]
  },
  {
   "cell_type": "code",
   "execution_count": null,
   "id": "f5af7bdd-ecf9-4a51-9273-df4a5bb8368c",
   "metadata": {},
   "outputs": [],
   "source": [
    "from torch.nn import functional as F"
   ]
  },
  {
   "cell_type": "code",
   "execution_count": null,
   "id": "15279b90-7a64-4df5-92ba-3f65637189d4",
   "metadata": {},
   "outputs": [],
   "source": [
    "class CNN(nn.Module):\n",
    "    def __init__(self, num_classes: int = 10, dropout_p: float = 0.1) -> None:\n",
    "        super().__init__()\n",
    "\n",
    "        self.dropout_p = dropout_p\n",
    "\n",
    "        # инстанцируем лишь модули с обучаемыми параметрами (и объекты nn.Parameter)\n",
    "        self.conv1 = nn.Conv2d(in_channels=1, out_channels=32, kernel_size=3, padding=1)\n",
    "        self.conv2 = nn.Conv2d(32, 64, kernel_size=3, padding=1)\n",
    "        self.fc1 = nn.Linear(64 * 7 * 7, 128)\n",
    "        self.fc2 = nn.Linear(128, num_classes)\n",
    "\n",
    "    def forward(self, x: torch.Tensor) -> torch.Tensor:\n",
    "        x = F.max_pool2d(F.relu(self.conv1(x)), kernel_size=2)\n",
    "        x = F.max_pool2d(F.relu(self.conv2(x)), kernel_size=2)\n",
    "        x = torch.flatten(x, 1)\n",
    "        x = F.relu(self.fc1(F.dropout1d(x, p=self.dropout_p)))\n",
    "        x = self.fc2(F.dropout1d(x, p=self.dropout_p))\n",
    "        return x"
   ]
  },
  {
   "cell_type": "markdown",
   "id": "916cebcb-dd33-49bc-9bde-27c0a904dd3b",
   "metadata": {},
   "source": [
    "А вот, как это выглядело бы в Module API:"
   ]
  },
  {
   "cell_type": "code",
   "execution_count": null,
   "id": "492c4820-0bc4-47d8-99c1-b74c9fcbc387",
   "metadata": {},
   "outputs": [],
   "source": [
    "class CNN_M(nn.Module):\n",
    "    def __init__(self, num_classes: int = 10, dropout_p: float = 0.1) -> None:\n",
    "        super().__init__()\n",
    "\n",
    "        self.features = nn.Sequential(\n",
    "            nn.Conv2d(in_channels=1, out_channels=32, kernel_size=3, padding=1),\n",
    "            nn.ReLU(inplace=True),\n",
    "            nn.MaxPool2d(kernel_size=2),\n",
    "            nn.Conv2d(32, 64, kernel_size=3, padding=1),\n",
    "            nn.ReLU(inplace=True),\n",
    "            nn.MaxPool2d(kernel_size=2),\n",
    "        )\n",
    "        self.classifier = nn.Sequential(\n",
    "            nn.Dropout(p=dropout_p),\n",
    "            nn.Linear(64 * 7 * 7, 128),\n",
    "            nn.ReLU(inplace=True),\n",
    "            nn.Dropout(p=dropout_p),\n",
    "            nn.Linear(128, num_classes),\n",
    "        )\n",
    "\n",
    "    def forward(self, x: torch.Tensor) -> torch.Tensor:\n",
    "        x = self.features(x)\n",
    "        x = torch.flatten(x, 1)\n",
    "        x = self.classifier(x)\n",
    "        return x"
   ]
  },
  {
   "cell_type": "code",
   "execution_count": null,
   "id": "73a84d99-23f3-45a7-8ecd-cafcaab21224",
   "metadata": {},
   "outputs": [],
   "source": [
    "cnn_model = CNN().to(DEVICE)\n",
    "print(cnn_model)"
   ]
  },
  {
   "cell_type": "code",
   "execution_count": null,
   "id": "755a5657-3cde-4324-94ce-be677a8b6bdd",
   "metadata": {},
   "outputs": [],
   "source": [
    "logits = cnn_model(train_features.to(DEVICE))\n",
    "pred_probas = nn.Softmax(dim=1)(logits)\n",
    "y_pred = pred_probas.argmax(1)\n",
    "y_pred"
   ]
  },
  {
   "cell_type": "code",
   "execution_count": null,
   "id": "e68f1b33-8c10-4fba-8594-4cabfbe771df",
   "metadata": {},
   "outputs": [],
   "source": [
    "count_model_params(cnn_model)"
   ]
  },
  {
   "cell_type": "markdown",
   "id": "fb7e4807-19be-41ab-be34-4a45f7307031",
   "metadata": {},
   "source": [
    "Проверим, что количество параметров у модульной версии то же самое"
   ]
  },
  {
   "cell_type": "code",
   "execution_count": null,
   "id": "e1846721-ae9d-49bd-b0da-fb151e412e39",
   "metadata": {},
   "outputs": [],
   "source": [
    "cnn_model = CNN_M().to(DEVICE)\n",
    "print(cnn_model)\n",
    "count_model_params(cnn_model)"
   ]
  },
  {
   "cell_type": "markdown",
   "id": "259f85af-1362-416a-aa00-8dcf1f39553d",
   "metadata": {},
   "source": [
    "Преимущество функционального способа понятно: больший простор для связывания отдельных блоков. Недостаток очевиден: читаемость кода ухудшается. Идеального рецепта не существует, всегда нужно искать баланс."
   ]
  },
  {
   "cell_type": "markdown",
   "id": "bbde6784-0a63-4a61-aed6-22b9c5f8c20b",
   "metadata": {},
   "source": [
    "## Оптимизатор"
   ]
  },
  {
   "cell_type": "markdown",
   "id": "d8cd57b8-ebe6-45c4-a5fd-87b328a3752c",
   "metadata": {},
   "source": [
    "Оптимизатор ниже (стохастический градиентный спуск) -- алгоритм настройки параметров (весов) нейронной сети, который на основе данных стремится минимизировать значение лосс-функции.\n",
    "\n",
    "Оптимизаторов немало, вас могли были познакомить с некоторыми из них на курсе по методам оптимизации. Полный список реализованных в pytorch можно посмотреть тут: https://pytorch.org/docs/stable/optim.html\n",
    "\n",
    "На вход оптимизатору подаем параметры модели и все необходимые гиперпараметры алгоритма оптимизации. Совсем необязательно настраивать все параметры, часть из них может быть \"заморожена\", но об этом поговорим на следующих занятиях."
   ]
  },
  {
   "cell_type": "code",
   "execution_count": null,
   "id": "1d156c38-e0dc-49bc-98fe-233021924519",
   "metadata": {},
   "outputs": [],
   "source": [
    "optimizer = torch.optim.SGD(ffnn_model.parameters(), lr=1e-3)"
   ]
  },
  {
   "cell_type": "markdown",
   "id": "658bce9e-3f9d-46ed-9950-1d0a66e5376f",
   "metadata": {},
   "source": [
    "## Model training"
   ]
  },
  {
   "cell_type": "code",
   "execution_count": null,
   "id": "3ec89a00-77fa-46a2-91f0-95e23c89c3ac",
   "metadata": {},
   "outputs": [],
   "source": [
    "LEARNING_RATE = 1e-1\n",
    "BATCH_SIZE = 128\n",
    "EPOCHS_NUM = 10"
   ]
  },
  {
   "cell_type": "code",
   "execution_count": null,
   "id": "2eee31bd-74ad-48de-8e6e-40539b540955",
   "metadata": {},
   "outputs": [],
   "source": [
    "train_dataloader = DataLoader(\n",
    "    train_dataset, batch_size=BATCH_SIZE, num_workers=0, shuffle=True\n",
    ")\n",
    "test_dataloader = DataLoader(\n",
    "    test_dataset, batch_size=BATCH_SIZE, num_workers=0, shuffle=True\n",
    ")"
   ]
  },
  {
   "cell_type": "code",
   "execution_count": null,
   "id": "09168c2f-c9d4-44e2-8420-3dfaaecd3e5f",
   "metadata": {},
   "outputs": [],
   "source": [
    "ffnn_model = FFNN().to(DEVICE)\n",
    "cnn_model = CNN().to(DEVICE)\n",
    "model = cnn_model"
   ]
  },
  {
   "cell_type": "code",
   "execution_count": null,
   "id": "745c58ef-6fa6-413b-a0dd-645892996f88",
   "metadata": {},
   "outputs": [],
   "source": [
    "optimizer = torch.optim.SGD(model.parameters(), lr=LEARNING_RATE)"
   ]
  },
  {
   "cell_type": "code",
   "execution_count": null,
   "id": "45898859-015c-43cf-9849-0f30dd6f5cef",
   "metadata": {},
   "outputs": [],
   "source": [
    "from typing import Callable\n",
    "\n",
    "\n",
    "def train_loop(\n",
    "    dataloader: DataLoader,\n",
    "    model: nn.Module,\n",
    "    loss_fn: Callable,\n",
    "    optimizer: torch.optim.Optimizer,\n",
    "    device: str,\n",
    ") -> None:\n",
    "    model.train()\n",
    "\n",
    "    size = len(dataloader.dataset)\n",
    "    batches_num = len(dataloader)\n",
    "    train_loss, correct = 0.0, 0\n",
    "    for batch, data in enumerate(dataloader):\n",
    "        inputs, targets = data[0].to(device), data[1].to(device)\n",
    "\n",
    "        optimizer.zero_grad()\n",
    "\n",
    "        preds = model(inputs)\n",
    "        loss = loss_fn(preds, targets)\n",
    "\n",
    "        loss.backward()\n",
    "        optimizer.step()\n",
    "\n",
    "        train_loss += loss.item()\n",
    "        correct += (preds.argmax(1) == targets).type(torch.float).sum().item()\n",
    "\n",
    "        if batch % 100 == 0:\n",
    "            loss, current = loss.item(), batch * BATCH_SIZE + len(inputs)\n",
    "            print(f\"loss: {loss:>7f}  [{current:>5d}/{size:>5d}]\")\n",
    "\n",
    "    train_loss /= batches_num\n",
    "    correct /= size\n",
    "    print(\n",
    "        f\"Train Error: Accuracy: {(100 * correct):>0.1f}%, Avg loss: {train_loss:>8f} \\n\"\n",
    "    )\n",
    "\n",
    "\n",
    "def test_loop(\n",
    "    dataloader: DataLoader,\n",
    "    model: nn.Module,\n",
    "    loss_fn: Callable,\n",
    "    device: str,\n",
    ") -> None:\n",
    "    model.eval()\n",
    "\n",
    "    size = len(dataloader.dataset)\n",
    "    batches_num = len(dataloader)\n",
    "    test_loss, correct = 0.0, 0\n",
    "    with torch.no_grad():\n",
    "        for data in dataloader:\n",
    "            inputs, targets = data[0].to(device), data[1].to(device)\n",
    "\n",
    "            preds = model(inputs)\n",
    "            test_loss += loss_fn(preds, targets).item()\n",
    "            correct += (preds.argmax(1) == targets).type(torch.float).sum().item()\n",
    "\n",
    "    test_loss /= batches_num\n",
    "    correct /= size\n",
    "    print(\n",
    "        f\"Test Error: Accuracy: {(100 * correct):>0.1f}%, Avg loss: {test_loss:>8f} \\n\"\n",
    "    )"
   ]
  },
  {
   "cell_type": "code",
   "execution_count": null,
   "id": "7b04b29f-46ff-45aa-9cba-5a6f03c72470",
   "metadata": {},
   "outputs": [],
   "source": [
    "loss_fn = nn.CrossEntropyLoss()\n",
    "\n",
    "for epoch in range(EPOCHS_NUM):\n",
    "    print(f\"Epoch {epoch + 1}\")\n",
    "    train_loop(\n",
    "        dataloader=train_dataloader,\n",
    "        model=model,\n",
    "        loss_fn=loss_fn,\n",
    "        optimizer=optimizer,\n",
    "        device=DEVICE,\n",
    "    )\n",
    "    test_loop(\n",
    "        dataloader=test_dataloader,\n",
    "        model=model,\n",
    "        loss_fn=loss_fn,\n",
    "        device=DEVICE,\n",
    "    )\n",
    "    print(\"-\" * 15)"
   ]
  },
  {
   "cell_type": "markdown",
   "id": "cd79b1eb-fb54-4176-ae7f-fa294a121c01",
   "metadata": {},
   "source": [
    "## Сохранение и загрузка модели"
   ]
  },
  {
   "cell_type": "code",
   "execution_count": null,
   "id": "9941a2a6-9491-48d8-8b58-67a0542555c4",
   "metadata": {},
   "outputs": [],
   "source": [
    "model_path = f\"{model.__class__.__name__.lower()}.pt\"\n",
    "torch.save(\n",
    "    {\"misc\": \"misc\", \"model_state_dict\": model.state_dict()},\n",
    "    model_path,\n",
    ")"
   ]
  },
  {
   "cell_type": "code",
   "execution_count": null,
   "id": "24aad98f-f9f5-4ba8-bf03-3e9b2ad50955",
   "metadata": {},
   "outputs": [],
   "source": [
    "model_state_dict = torch.load(model_path, map_location=\"cpu\")[\"model_state_dict\"]\n",
    "model_loaded = model.__class__()\n",
    "model_loaded.load_state_dict(model_state_dict)\n",
    "model_loaded.to(DEVICE)"
   ]
  },
  {
   "cell_type": "markdown",
   "id": "db4613a2-4697-4f2b-a4c1-0918a3ec0536",
   "metadata": {},
   "source": [
    "## Inference"
   ]
  },
  {
   "cell_type": "code",
   "execution_count": null,
   "id": "1c6fa908-b970-4e14-a698-507884bebffc",
   "metadata": {},
   "outputs": [],
   "source": [
    "sample_idx = 124\n",
    "img, label = test_dataset[sample_idx]\n",
    "\n",
    "plt.imshow(img.squeeze(0))\n",
    "plt.title(labels_map[label])"
   ]
  },
  {
   "cell_type": "code",
   "execution_count": null,
   "id": "d7104161-a297-4690-a364-a532c9ff8da8",
   "metadata": {},
   "outputs": [],
   "source": [
    "preds = model_loaded(img.to(DEVICE))\n",
    "print(\"Предсказание модели: \", labels_map[preds.argmax(1).item()])"
   ]
  },
  {
   "cell_type": "markdown",
   "id": "f5eb861d-38b2-4f43-aea1-df73ab023466",
   "metadata": {},
   "source": [
    "## Дополнительные топики"
   ]
  },
  {
   "cell_type": "markdown",
   "id": "03915002-95ff-4359-a787-cf245184ffa4",
   "metadata": {},
   "source": [
    "* Сохранение лучшей модели: Checkpointer\n",
    "* Изменение скорости обучения: torch.optim.lr_scheduler\n",
    "* Модели компьютерного зрения в пакете torchvision: https://github.com/pytorch/vision/tree/main/torchvision/models\n",
    "* Фреймворк глубокого обучения для упрощения процесса обучения моделей глубокого обучения (переусложнение преднамеренное): https://github.com/Lightning-AI/pytorch-lightning (сайт заблокирован для ru-зоны)\n",
    "* Huggingface's Accelerate: https://huggingface.co/docs/accelerate/index\n",
    "* инструменты для разметки датасетов\n",
    "* deploy"
   ]
  },
  {
   "cell_type": "markdown",
   "id": "f3277172-e71d-4d93-b99c-359e20211b59",
   "metadata": {},
   "source": [
    "## Задание на оставшееся время"
   ]
  },
  {
   "cell_type": "markdown",
   "id": "41e32b8a-dbb9-4cba-a524-3dadc81fbc63",
   "metadata": {},
   "source": [
    "Начните писать собственный кастомный класс Dataset для своей задачи: будь то проект для ВКР или любая другая идея, которую вы хотите протестировать с помощью глубокого обучения. Если нет идей, начните с анализа кода готовых датасетов в библиотеке torchvision: https://pytorch.org/vision/0.16/datasets.html"
   ]
  },
  {
   "cell_type": "code",
   "execution_count": null,
   "id": "1d830ff9-3e9e-4f0b-995c-128060eee0e9",
   "metadata": {},
   "outputs": [],
   "source": []
  }
 ],
 "metadata": {
  "kernelspec": {
   "display_name": "Python 3 (ipykernel)",
   "language": "python",
   "name": "python3"
  },
  "language_info": {
   "codemirror_mode": {
    "name": "ipython",
    "version": 3
   },
   "file_extension": ".py",
   "mimetype": "text/x-python",
   "name": "python",
   "nbconvert_exporter": "python",
   "pygments_lexer": "ipython3",
   "version": "3.10.10"
  }
 },
 "nbformat": 4,
 "nbformat_minor": 5
}
